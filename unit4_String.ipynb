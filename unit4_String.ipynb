{
  "nbformat": 4,
  "nbformat_minor": 0,
  "metadata": {
    "colab": {
      "provenance": [],
      "authorship_tag": "ABX9TyPC8COQpQnImtU+9ldvp5Jm",
      "include_colab_link": true
    },
    "kernelspec": {
      "name": "python3",
      "display_name": "Python 3"
    },
    "language_info": {
      "name": "python"
    }
  },
  "cells": [
    {
      "cell_type": "markdown",
      "metadata": {
        "id": "view-in-github",
        "colab_type": "text"
      },
      "source": [
        "<a href=\"https://colab.research.google.com/github/Soumyadityaa/python_notes/blob/main/unit4_String.ipynb\" target=\"_parent\"><img src=\"https://colab.research.google.com/assets/colab-badge.svg\" alt=\"Open In Colab\"/></a>"
      ]
    },
    {
      "cell_type": "markdown",
      "source": [
        "#Programming with Python"
      ],
      "metadata": {
        "id": "0RIqj7KePe49"
      }
    },
    {
      "cell_type": "markdown",
      "source": [
        "##String Manipulation"
      ],
      "metadata": {
        "id": "gDWfRZ56QIt6"
      }
    },
    {
      "cell_type": "markdown",
      "source": [
        "###1. Accessing Strings:\n",
        "\n",
        "Strings are like words or sentences. To access a specific part of a string, think of it like counting characters in a line. Python starts counting at 0, so the first character is at position 0, the second at position 1, and so on."
      ],
      "metadata": {
        "id": "-HGUQGD-QQzi"
      }
    },
    {
      "cell_type": "code",
      "source": [
        "text = \"Hello, Python!\"\n",
        "first_character = text[0]  # This gets the first character, which is 'H'\n",
        "third_character = text[2]  # This gets the third character, which is 'l'\n"
      ],
      "metadata": {
        "id": "x00L7cdfQS9b"
      },
      "execution_count": null,
      "outputs": []
    },
    {
      "cell_type": "markdown",
      "source": [
        "###2. Basic Operations:\n",
        "\n",
        "You can perform basic operations on strings, like combining them (concatenation), repeating them, and finding their length."
      ],
      "metadata": {
        "id": "j5WfxJPgQVgz"
      }
    },
    {
      "cell_type": "code",
      "source": [
        "str1 = \"Hello\"\n",
        "str2 = \"World\"\n",
        "combined_str = str1 + \", \" + str2  # Concatenation: \"Hello, World\"\n",
        "repeated_str = str1 * 3  # Repeating: \"HelloHelloHello\"\n",
        "length = len(str1)  # Length: 5\n"
      ],
      "metadata": {
        "id": "g-qWCcsyQZr6"
      },
      "execution_count": null,
      "outputs": []
    },
    {
      "cell_type": "markdown",
      "source": [
        "###3. String Slices:\n",
        "\n",
        "String slices are like cutting a cake into pieces. You can extract a portion of a string using a starting and ending position."
      ],
      "metadata": {
        "id": "mlK-gK04QcYh"
      }
    },
    {
      "cell_type": "code",
      "source": [
        "text = \"Python is fun\"\n",
        "slice = text[7:9]  # This gets the slice from position 7 to 9: \"is\"\n"
      ],
      "metadata": {
        "id": "QIaeacQMQezY"
      },
      "execution_count": null,
      "outputs": []
    },
    {
      "cell_type": "markdown",
      "source": [
        "###4. Functions and Methods:\n",
        "\n",
        "In Python, there are built-in functions and methods that can help you manipulate strings. Functions are like helpers that you call, and methods are actions you perform on the string itself."
      ],
      "metadata": {
        "id": "aIH6d9D7Qixo"
      }
    },
    {
      "cell_type": "code",
      "source": [
        "text = \"python is cool\"\n",
        "uppercase_text = text.upper()  # Method: \"PYTHON IS COOL\"\n",
        "lowercase_text = text.lower()  # Method: \"python is cool\"\n",
        "split_text = text.split()  # Method: [\"python\", \"is\", \"cool\"]\n"
      ],
      "metadata": {
        "id": "HIW7uKSSQkTZ"
      },
      "execution_count": null,
      "outputs": []
    },
    {
      "cell_type": "markdown",
      "source": [
        "In the example, upper() and lower() are methods that change the case of the string, and split() splits the string into a list of words."
      ],
      "metadata": {
        "id": "2Bg7EdEqQr7J"
      }
    }
  ]
}