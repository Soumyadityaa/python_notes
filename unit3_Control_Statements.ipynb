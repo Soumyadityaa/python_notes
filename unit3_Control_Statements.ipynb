{
  "nbformat": 4,
  "nbformat_minor": 0,
  "metadata": {
    "colab": {
      "provenance": [],
      "authorship_tag": "ABX9TyMVh12xfH2lCx7hc2mnsXBD",
      "include_colab_link": true
    },
    "kernelspec": {
      "name": "python3",
      "display_name": "Python 3"
    },
    "language_info": {
      "name": "python"
    }
  },
  "cells": [
    {
      "cell_type": "markdown",
      "metadata": {
        "id": "view-in-github",
        "colab_type": "text"
      },
      "source": [
        "<a href=\"https://colab.research.google.com/github/Soumyadityaa/python_notes/blob/main/unit3_Control_Statements.ipynb\" target=\"_parent\"><img src=\"https://colab.research.google.com/assets/colab-badge.svg\" alt=\"Open In Colab\"/></a>"
      ]
    },
    {
      "cell_type": "markdown",
      "source": [
        "#Programming with Python"
      ],
      "metadata": {
        "id": "d3IhSDegMiMv"
      }
    },
    {
      "cell_type": "markdown",
      "source": [
        "##Control Statements:"
      ],
      "metadata": {
        "id": "YaC5hG0uMltW"
      }
    },
    {
      "cell_type": "markdown",
      "source": [
        "###1. break:\n",
        "\n",
        "Think of break as an emergency exit. When something specific happens, it allows you to immediately leave a loop (like a for or while loop) even if you haven't finished going through all the items."
      ],
      "metadata": {
        "id": "gFyYs93NMu5f"
      }
    },
    {
      "cell_type": "code",
      "execution_count": null,
      "metadata": {
        "id": "1upxZg-vLrla"
      },
      "outputs": [],
      "source": [
        "fruits = [\"apple\", \"banana\", \"cherry\", \"date\"]\n",
        "for fruit in fruits:\n",
        "    if fruit == \"cherry\":\n",
        "        break  # If we find \"cherry,\" we break out of the loop.\n",
        "    print(fruit)"
      ]
    },
    {
      "cell_type": "markdown",
      "source": [
        "###2. continue:\n",
        "\n",
        "continue is like saying, \"I'm skipping this one.\" When something specific happens, it allows you to skip the current iteration of a loop and move on to the next one."
      ],
      "metadata": {
        "id": "N1rub6WXM6u8"
      }
    },
    {
      "cell_type": "code",
      "source": [
        "numbers = [1, 2, 3, 4, 5]\n",
        "for number in numbers:\n",
        "    if number == 3:\n",
        "        continue  # If the number is 3, skip it and continue with the next one.\n",
        "    print(number)\n"
      ],
      "metadata": {
        "id": "LASdwTL3NA99"
      },
      "execution_count": null,
      "outputs": []
    },
    {
      "cell_type": "markdown",
      "source": [
        "###3. pass:\n",
        "\n",
        "pass is like a temporary placeholder. It doesn't do anything. It's used when you need something in your code for structure but haven't decided what should happen yet."
      ],
      "metadata": {
        "id": "wXMN4ZFXNDE8"
      }
    },
    {
      "cell_type": "code",
      "source": [
        "x = 10\n",
        "if x < 5:\n",
        "    pass  # We're not sure what to do here yet.\n",
        "else:\n",
        "    print(\"x is greater than or equal to 5\")"
      ],
      "metadata": {
        "id": "JJ76nEcbNInM"
      },
      "execution_count": null,
      "outputs": []
    },
    {
      "cell_type": "markdown",
      "source": [
        "###In simple terms, break lets you escape from a situation, continue allows you to skip a part of a task, and pass is a way of saying \"I'll come back to this later.\" These control statements help you have more control over how your code behaves in different situations."
      ],
      "metadata": {
        "id": "sFo3NekPNsqB"
      }
    }
  ]
}