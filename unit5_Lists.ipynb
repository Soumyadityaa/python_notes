{
  "nbformat": 4,
  "nbformat_minor": 0,
  "metadata": {
    "colab": {
      "provenance": [],
      "authorship_tag": "ABX9TyOb1Hpc1wI9uVX0vxFYfKQB",
      "include_colab_link": true
    },
    "kernelspec": {
      "name": "python3",
      "display_name": "Python 3"
    },
    "language_info": {
      "name": "python"
    }
  },
  "cells": [
    {
      "cell_type": "markdown",
      "metadata": {
        "id": "view-in-github",
        "colab_type": "text"
      },
      "source": [
        "<a href=\"https://colab.research.google.com/github/Soumyadityaa/python_notes/blob/main/unit5_Lists.ipynb\" target=\"_parent\"><img src=\"https://colab.research.google.com/assets/colab-badge.svg\" alt=\"Open In Colab\"/></a>"
      ]
    },
    {
      "cell_type": "markdown",
      "source": [
        "#Programming with Python"
      ],
      "metadata": {
        "id": "RNxyZ8Qg8wgW"
      }
    },
    {
      "cell_type": "markdown",
      "source": [
        "##Lists"
      ],
      "metadata": {
        "id": "94j1T1Qx8ycW"
      }
    },
    {
      "cell_type": "markdown",
      "source": [
        "###Introduction to Lists:\n",
        "\n",
        "Think of a list in Python like a shopping list. It's a collection of items that can be anything - numbers, words, or even other lists. Lists help you keep things organized."
      ],
      "metadata": {
        "id": "2Sbkr0ee84YN"
      }
    },
    {
      "cell_type": "code",
      "execution_count": null,
      "metadata": {
        "id": "VcuXxF_58GCx"
      },
      "outputs": [],
      "source": [
        "fruits = [\"apple\", \"banana\", \"cherry\"]\n"
      ]
    },
    {
      "cell_type": "markdown",
      "source": [
        "###Accessing Lists:\n",
        "\n",
        "Just like you can point to an item on your shopping list, you can access items in a Python list using their position. The first item is at position 0, the second at 1, and so on."
      ],
      "metadata": {
        "id": "-4k2Sal58_Ez"
      }
    },
    {
      "cell_type": "code",
      "source": [
        "fruits = [\"apple\", \"banana\", \"cherry\"]\n",
        "first_fruit = fruits[0]  # This gets the first fruit, which is \"apple\"\n",
        "second_fruit = fruits[1]  # This gets the second fruit, which is \"banana\"\n"
      ],
      "metadata": {
        "id": "zi8sSNvP9CHb"
      },
      "execution_count": null,
      "outputs": []
    },
    {
      "cell_type": "markdown",
      "source": [
        "###Operations on Lists:\n",
        "\n",
        "You can do various things with lists, such as adding items, removing items, or checking if an item is in the list."
      ],
      "metadata": {
        "id": "M8AxuFKb9Eqq"
      }
    },
    {
      "cell_type": "code",
      "source": [
        "fruits = [\"apple\", \"banana\"]\n",
        "fruits.append(\"cherry\")  # Add \"cherry\" to the list\n",
        "fruits.remove(\"apple\")  # Remove \"apple\" from the list\n",
        "is_banana_in_list = \"banana\" in fruits  # Check if \"banana\" is in the list\n"
      ],
      "metadata": {
        "id": "NxkN_9mB9H5L"
      },
      "execution_count": null,
      "outputs": []
    },
    {
      "cell_type": "markdown",
      "source": [
        "###Working with Lists:\n",
        "\n",
        "You can iterate through lists to work with each item one by one. It's like going through your shopping list item by item."
      ],
      "metadata": {
        "id": "hwm_MBnh9Lxz"
      }
    },
    {
      "cell_type": "code",
      "source": [
        "fruits = [\"apple\", \"banana\", \"cherry\"]\n",
        "for fruit in fruits:\n",
        "    print(\"Buy\", fruit)\n"
      ],
      "metadata": {
        "id": "uR9y1pMJ9W_C"
      },
      "execution_count": null,
      "outputs": []
    },
    {
      "cell_type": "markdown",
      "source": [
        "###Functions and Methods:\n",
        "\n",
        "Python provides built-in functions and methods to help you work with lists. Functions are like helpers, and methods are actions you can perform on the list."
      ],
      "metadata": {
        "id": "Os9fOyUA9cxa"
      }
    },
    {
      "cell_type": "code",
      "source": [
        "numbers = [3, 1, 2]\n",
        "sorted_numbers = sorted(numbers)  # Function: [1, 2, 3]\n",
        "numbers.sort()  # Method: sorts the list in place\n",
        "list_length = len(numbers)  # Function: 3 (length of the list)\n"
      ],
      "metadata": {
        "id": "J1o5Wanu9eax"
      },
      "execution_count": null,
      "outputs": []
    },
    {
      "cell_type": "markdown",
      "source": [
        "Here, sorted() is a function that returns a sorted version of the list, and sort() is a method that sorts the list itself. len() is a function that gives you the length of the list."
      ],
      "metadata": {
        "id": "_WTVZvJt9gjq"
      }
    },
    {
      "cell_type": "markdown",
      "source": [
        "##In simple terms, a list is like a collection of items, and you can do things like adding, removing, or checking items in it. You can work with lists one item at a time or use functions and methods to manipulate them. Lists help you keep your data organized and structured."
      ],
      "metadata": {
        "id": "b0ub_jzr9j5x"
      }
    }
  ]
}