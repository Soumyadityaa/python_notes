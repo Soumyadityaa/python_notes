{
  "nbformat": 4,
  "nbformat_minor": 0,
  "metadata": {
    "colab": {
      "provenance": [],
      "authorship_tag": "ABX9TyN25SDi6p7Hh6Fs+4/yZpwY",
      "include_colab_link": true
    },
    "kernelspec": {
      "name": "python3",
      "display_name": "Python 3"
    },
    "language_info": {
      "name": "python"
    }
  },
  "cells": [
    {
      "cell_type": "markdown",
      "metadata": {
        "id": "view-in-github",
        "colab_type": "text"
      },
      "source": [
        "<a href=\"https://colab.research.google.com/github/Soumyadityaa/python_notes/blob/main/unit1_Introduction.ipynb\" target=\"_parent\"><img src=\"https://colab.research.google.com/assets/colab-badge.svg\" alt=\"Open In Colab\"/></a>"
      ]
    },
    {
      "cell_type": "markdown",
      "source": [
        "#Programming with Python"
      ],
      "metadata": {
        "id": "Yp9YmBNTFR9X"
      }
    },
    {
      "cell_type": "markdown",
      "source": [
        "##Introduction"
      ],
      "metadata": {
        "id": "SbSvA3P8FViP"
      }
    },
    {
      "cell_type": "markdown",
      "source": [
        "###Introduction to Python:\n",
        "\n",
        "Python is a computer programming language. It's like a special set of instructions you can give to a computer to make it do things.\n",
        "People like using Python because it's easy to read and write, making it a good choice for beginners."
      ],
      "metadata": {
        "id": "uP58BD2KFaGd"
      }
    },
    {
      "cell_type": "markdown",
      "source": [
        "###History:\n",
        "\n",
        "Python was created by Guido van Rossum and was first released in 1991.\n",
        "It's named after the British comedy group Monty Python, not the snake!"
      ],
      "metadata": {
        "id": "XVLrOcdhFhr-"
      }
    },
    {
      "cell_type": "markdown",
      "source": [
        "###Features:\n",
        "\n",
        "Python is versatile, which means you can use it for a wide range of tasks like web development, data analysis, and even artificial intelligence.\n",
        "It's known for its clean and easy-to-understand code.\n",
        "Python has a large and active community, so there are lots of resources and libraries available."
      ],
      "metadata": {
        "id": "0lRdFUGYFmGf"
      }
    },
    {
      "cell_type": "markdown",
      "source": [
        "###Setting up Path:\n",
        "\n",
        "To work with Python, you need to set up your computer so it understands the Python language.\n",
        "You can download Python from the official website (python.org) and install it on your computer.\n",
        "Once installed, you need to make sure your computer knows where to find Python. This is done by setting the \"path\" so you can run Python from the command line."
      ],
      "metadata": {
        "id": "2pOwF314FrDl"
      }
    },
    {
      "cell_type": "markdown",
      "source": [
        "###Working with Python:\n",
        "\n",
        "You can write Python code in a text editor or a specialized development environment.\n",
        "To run your code, you'll typically save it in a file with a \".py\" extension and then execute it using the command line or an integrated development environment (IDE)."
      ],
      "metadata": {
        "id": "Zv_JlMASF6rL"
      }
    },
    {
      "cell_type": "markdown",
      "source": [
        "###Basic Syntax:\n",
        "\n",
        "Python uses a clear and simple syntax, which means the rules for writing Python code are easy to understand.\n",
        "You'll write code in a way that's similar to writing sentences in English, making it more readable."
      ],
      "metadata": {
        "id": "Tu6bdZpRGGB8"
      }
    },
    {
      "cell_type": "code",
      "source": [
        "print(\"Hello, World!\")\n"
      ],
      "metadata": {
        "id": "6-kGYVVeGMf6"
      },
      "execution_count": null,
      "outputs": []
    },
    {
      "cell_type": "code",
      "source": [
        "# This is a comment\n",
        "result = 5 + 3  # This line adds 5 and 3 and stores the result in the variable 'result'\n",
        "print(result)   # This line prints the result to the screen\n"
      ],
      "metadata": {
        "colab": {
          "base_uri": "https://localhost:8080/"
        },
        "id": "eK1lh9bMGRAS",
        "outputId": "11ece37d-4fb1-4c4c-918b-a7ca8956b78b"
      },
      "execution_count": null,
      "outputs": [
        {
          "output_type": "stream",
          "name": "stdout",
          "text": [
            "8\n"
          ]
        }
      ]
    },
    {
      "cell_type": "markdown",
      "source": [
        "###Variables and Data Types:\n",
        "\n",
        "In Python, you can use variables to store data. Variables are like containers that can hold different types of information, like numbers, text, or true/false values.\n",
        "Common data types include integers (whole numbers), floating-point numbers (numbers with decimals), strings (text), and boolean (true or false) values."
      ],
      "metadata": {
        "id": "OSH0o-AwGU69"
      }
    },
    {
      "cell_type": "code",
      "source": [
        "name = \"John\"           # A string variable\n",
        "age = 30                # An integer variable\n",
        "height = 1.75           # A floating-point variable\n",
        "is_student = True       # A boolean variable\n",
        "\n",
        "print(\"Name:\", name)\n",
        "print(\"Age:\", age)\n",
        "print(\"Height:\", height)\n",
        "print(\"Is a student:\", is_student)\n"
      ],
      "metadata": {
        "colab": {
          "base_uri": "https://localhost:8080/"
        },
        "id": "tByhQv3EG1Sh",
        "outputId": "3c2929be-7995-4244-92c1-31542271e99d"
      },
      "execution_count": null,
      "outputs": [
        {
          "output_type": "stream",
          "name": "stdout",
          "text": [
            "Name: John\n",
            "Age: 30\n",
            "Height: 1.75\n",
            "Is a student: True\n"
          ]
        }
      ]
    },
    {
      "cell_type": "markdown",
      "source": [
        "###Operators:\n",
        "\n",
        "Operators are symbols or words that allow you to perform operations on data. Common operators include addition (+), subtraction (-), multiplication (*), division (/), and comparison (== for checking if two values are equal).\n",
        "Operators help you manipulate and work with your data to achieve specific tasks in your code.\n",
        "So, that's the basics of programming with Python. It's a versatile and user-friendly language that's great for beginners and experienced programmers alike. You'll learn more as you start writing and experimenting with Python code."
      ],
      "metadata": {
        "id": "A9-qCHb2G9Nw"
      }
    },
    {
      "cell_type": "code",
      "source": [
        "x = 10\n",
        "y = 5\n",
        "\n",
        "addition = x + y       # Addition\n",
        "subtraction = x - y    # Subtraction\n",
        "multiplication = x * y # Multiplication\n",
        "division = x / y       # Division\n",
        "modulus = x % y        # Modulus (remainder)\n",
        "\n",
        "# Comparison operators\n",
        "is_equal = x == y     # Equal to\n",
        "is_not_equal = x != y  # Not equal to\n",
        "is_greater = x > y     # Greater than\n",
        "is_less = x < y        # Less than\n",
        "is_greater_equal = x >= y  # Greater than or equal to\n",
        "is_less_equal = x <= y     # Less than or equal to\n",
        "\n",
        "print(\"Addition:\", addition)\n",
        "print(\"Subtraction:\", subtraction)\n",
        "print(\"Multiplication:\", multiplication)\n",
        "print(\"Division:\", division)\n",
        "print(\"Modulus:\", modulus)\n",
        "\n",
        "print(\"Is x equal to y?\", is_equal)\n",
        "print(\"Is x not equal to y?\", is_not_equal)\n",
        "print(\"Is x greater than y?\", is_greater)\n",
        "print(\"Is x less than y?\", is_less)\n",
        "print(\"Is x greater than or equal to y?\", is_greater_equal)\n",
        "print(\"Is x less than or equal to y?\", is_less_equal)\n"
      ],
      "metadata": {
        "id": "8gXlNjOAG-03",
        "outputId": "ff444d2c-3ff4-4c19-eead-a0e841440727",
        "colab": {
          "base_uri": "https://localhost:8080/"
        }
      },
      "execution_count": null,
      "outputs": [
        {
          "output_type": "stream",
          "name": "stdout",
          "text": [
            "Addition: 15\n",
            "Subtraction: 5\n",
            "Multiplication: 50\n",
            "Division: 2.0\n",
            "Modulus: 0\n",
            "Is x equal to y? False\n",
            "Is x not equal to y? True\n",
            "Is x greater than y? True\n",
            "Is x less than y? False\n",
            "Is x greater than or equal to y? True\n",
            "Is x less than or equal to y? False\n"
          ]
        }
      ]
    }
  ]
}