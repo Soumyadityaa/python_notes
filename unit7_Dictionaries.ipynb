{
  "nbformat": 4,
  "nbformat_minor": 0,
  "metadata": {
    "colab": {
      "provenance": [],
      "authorship_tag": "ABX9TyPzRnyd05D7n0B7XBNDTSh2",
      "include_colab_link": true
    },
    "kernelspec": {
      "name": "python3",
      "display_name": "Python 3"
    },
    "language_info": {
      "name": "python"
    }
  },
  "cells": [
    {
      "cell_type": "markdown",
      "metadata": {
        "id": "view-in-github",
        "colab_type": "text"
      },
      "source": [
        "<a href=\"https://colab.research.google.com/github/Soumyadityaa/python_notes/blob/main/unit7_Dictionaries.ipynb\" target=\"_parent\"><img src=\"https://colab.research.google.com/assets/colab-badge.svg\" alt=\"Open In Colab\"/></a>"
      ]
    },
    {
      "cell_type": "markdown",
      "source": [
        "#Programming with Python"
      ],
      "metadata": {
        "id": "qKstCjmkAxZo"
      }
    },
    {
      "cell_type": "markdown",
      "source": [
        "##Dictionaries"
      ],
      "metadata": {
        "id": "jq9S7mURA0_Y"
      }
    },
    {
      "cell_type": "markdown",
      "source": [
        "###Introduction to Dictionaries:\n",
        "\n",
        "A dictionary in Python is like a real dictionary, but instead of words and their meanings, it contains key-value pairs. Each key is unique and points to a specific value. Dictionaries are used when you want to associate one piece of information with another."
      ],
      "metadata": {
        "id": "MdGdV3_5A4OY"
      }
    },
    {
      "cell_type": "code",
      "execution_count": null,
      "metadata": {
        "id": "3bfvD042AaL3"
      },
      "outputs": [],
      "source": [
        "student = {\n",
        "    \"name\": \"Alice\",\n",
        "    \"age\": 20,\n",
        "    \"grade\": \"A\"\n",
        "}\n",
        "# In this dictionary, \"name,\" \"age,\" and \"grade\" are keys, and \"Alice,\" 20, and \"A\" are their corresponding values."
      ]
    },
    {
      "cell_type": "markdown",
      "source": [
        "###Accessing Values in Dictionaries:\n",
        "\n",
        "To get a value from a dictionary, you use the key. It's like looking up a word in a real dictionary to find its meaning."
      ],
      "metadata": {
        "id": "mfbU-rT_BBaG"
      }
    },
    {
      "cell_type": "code",
      "source": [
        "student = {\n",
        "    \"name\": \"Alice\",\n",
        "    \"age\": 20,\n",
        "    \"grade\": \"A\"\n",
        "}\n",
        "\n",
        "student_name = student[\"name\"]  # This gets the name, which is \"Alice\"\n",
        "student_age = student[\"age\"]  # This gets the age, which is 20\n"
      ],
      "metadata": {
        "id": "DrGgQpujBEou"
      },
      "execution_count": null,
      "outputs": []
    },
    {
      "cell_type": "markdown",
      "source": [
        "###Working with Dictionaries:\n",
        "\n",
        "Dictionaries are handy for storing related information. You can add new key-value pairs, change existing values, or remove items."
      ],
      "metadata": {
        "id": "N23AwyexBGvP"
      }
    },
    {
      "cell_type": "code",
      "source": [
        "student = {\n",
        "    \"name\": \"Alice\",\n",
        "    \"age\": 20,\n",
        "    \"grade\": \"A\"\n",
        "}\n",
        "\n",
        "student[\"city\"] = \"New York\"  # Adding a new key-value pair\n",
        "student[\"age\"] = 21  # Changing the age to 21\n",
        "del student[\"grade\"]  # Removing the grade\n",
        "\n",
        "# Here, we add the \"city\" key, change the age, and remove the \"grade\" key."
      ],
      "metadata": {
        "id": "8zQaq4-XBKJl"
      },
      "execution_count": null,
      "outputs": []
    },
    {
      "cell_type": "markdown",
      "source": [
        "###Properties of Dictionaries:\n",
        "\n",
        "Dictionaries are fast for looking up values because they use keys as an index. Keys must be unique, so you can't have duplicate keys. Dictionaries are flexible and can store different types of data as values."
      ],
      "metadata": {
        "id": "13y-oHBOBRBl"
      }
    },
    {
      "cell_type": "code",
      "source": [
        "student = {\n",
        "    \"name\": \"Alice\",\n",
        "    \"age\": 20,\n",
        "    \"grades\": [95, 88, 91]\n",
        "}\n",
        "\n",
        "# In this example, the \"grades\" key's value is a list."
      ],
      "metadata": {
        "id": "g4HVOvkKBU3v"
      },
      "execution_count": null,
      "outputs": []
    },
    {
      "cell_type": "markdown",
      "source": [
        "###In simple terms, a dictionary is like a collection of key-value pairs, where each key points to a specific piece of information. You use the key to access the value, and you can add, change, or remove items as needed. Dictionaries are fast and versatile, making them a useful tool for various programming tasks."
      ],
      "metadata": {
        "id": "F9rlfib_BbCc"
      }
    }
  ]
}