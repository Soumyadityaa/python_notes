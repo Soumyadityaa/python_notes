{
  "nbformat": 4,
  "nbformat_minor": 0,
  "metadata": {
    "colab": {
      "provenance": [],
      "authorship_tag": "ABX9TyPa+qAp9DWMcGbh4p6tfGTl",
      "include_colab_link": true
    },
    "kernelspec": {
      "name": "python3",
      "display_name": "Python 3"
    },
    "language_info": {
      "name": "python"
    }
  },
  "cells": [
    {
      "cell_type": "markdown",
      "metadata": {
        "id": "view-in-github",
        "colab_type": "text"
      },
      "source": [
        "<a href=\"https://colab.research.google.com/github/Soumyadityaa/python_notes/blob/main/unit2_Conditional_Statements.ipynb\" target=\"_parent\"><img src=\"https://colab.research.google.com/assets/colab-badge.svg\" alt=\"Open In Colab\"/></a>"
      ]
    },
    {
      "cell_type": "markdown",
      "source": [
        "#**Programming with Python**\n"
      ],
      "metadata": {
        "id": "Qw7TEmSrHvBY"
      }
    },
    {
      "cell_type": "markdown",
      "source": [
        "#Conditional Statements:\n",
        "\n",
        "Conditional statements are like instructions to tell the computer what to do depending on certain conditions. Imagine you're making decisions in a game. Here are the basic types:"
      ],
      "metadata": {
        "id": "AXYDRsRRIajc"
      }
    },
    {
      "cell_type": "markdown",
      "source": [
        "##If Statement:"
      ],
      "metadata": {
        "id": "4TJEEHzPH9Ot"
      }
    },
    {
      "cell_type": "code",
      "source": [
        "age = 18\n",
        "if age >= 18:\n",
        "    print(\"You are an adult.\")\n"
      ],
      "metadata": {
        "id": "n_EZf5zPIC7d"
      },
      "execution_count": null,
      "outputs": []
    },
    {
      "cell_type": "markdown",
      "source": [
        "##If-Else Statement"
      ],
      "metadata": {
        "id": "tpowBnjOIFkt"
      }
    },
    {
      "cell_type": "code",
      "source": [
        "age = 15\n",
        "if age >= 18:\n",
        "    print(\"You are an adult.\")\n",
        "else:\n",
        "    print(\"You are a minor.\")\n"
      ],
      "metadata": {
        "id": "EdXiWfxGIJHN"
      },
      "execution_count": null,
      "outputs": []
    },
    {
      "cell_type": "markdown",
      "source": [
        "##Nested If-Else Statement"
      ],
      "metadata": {
        "id": "DUyLlciJIO28"
      }
    },
    {
      "cell_type": "code",
      "source": [
        "age = 25\n",
        "if age >= 18:\n",
        "    if age < 30:\n",
        "        print(\"You are a young adult.\")\n",
        "    else:\n",
        "        print(\"You are an adult.\")\n",
        "else:\n",
        "    print(\"You are a minor.\")\n"
      ],
      "metadata": {
        "id": "51-ZpjR5IQ8c"
      },
      "execution_count": null,
      "outputs": []
    },
    {
      "cell_type": "markdown",
      "source": [
        "#Loops:\n",
        "\n",
        "Loops help you do things repeatedly. It's like telling the computer to keep doing something until a condition is met."
      ],
      "metadata": {
        "id": "fXMkA2LDIuNa"
      }
    },
    {
      "cell_type": "markdown",
      "source": [
        "## For Loop"
      ],
      "metadata": {
        "id": "DXUK2HnTIv5C"
      }
    },
    {
      "cell_type": "code",
      "source": [
        "tasks = [\"Task 1\", \"Task 2\", \"Task 3\"]\n",
        "for task in tasks:\n",
        "    print(\"Working on\", task)\n"
      ],
      "metadata": {
        "id": "ALgUxhrqI5fq"
      },
      "execution_count": null,
      "outputs": []
    },
    {
      "cell_type": "markdown",
      "source": [
        "##While Loop"
      ],
      "metadata": {
        "id": "pEjMzjaiI6XZ"
      }
    },
    {
      "cell_type": "code",
      "source": [
        "count = 0\n",
        "while count < 5:\n",
        "    print(\"Count:\", count)\n",
        "    count += 1\n"
      ],
      "metadata": {
        "id": "0s10cku6I9hJ"
      },
      "execution_count": null,
      "outputs": []
    },
    {
      "cell_type": "markdown",
      "source": [
        "##Nested Loops:"
      ],
      "metadata": {
        "id": "oDfuFQc3JDMZ"
      }
    },
    {
      "cell_type": "code",
      "source": [
        "for i in range(3):\n",
        "    for j in range(2):\n",
        "        print(\"i:\", i, \"j:\", j)\n"
      ],
      "metadata": {
        "id": "QRMJfIPhJEf7"
      },
      "execution_count": null,
      "outputs": []
    }
  ]
}