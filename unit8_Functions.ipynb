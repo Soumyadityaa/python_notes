{
  "nbformat": 4,
  "nbformat_minor": 0,
  "metadata": {
    "colab": {
      "provenance": [],
      "authorship_tag": "ABX9TyNCOX3FgN8yHH/jHqHPgHt2",
      "include_colab_link": true
    },
    "kernelspec": {
      "name": "python3",
      "display_name": "Python 3"
    },
    "language_info": {
      "name": "python"
    }
  },
  "cells": [
    {
      "cell_type": "markdown",
      "metadata": {
        "id": "view-in-github",
        "colab_type": "text"
      },
      "source": [
        "<a href=\"https://colab.research.google.com/github/Soumyadityaa/python_notes/blob/main/unit8_Functions.ipynb\" target=\"_parent\"><img src=\"https://colab.research.google.com/assets/colab-badge.svg\" alt=\"Open In Colab\"/></a>"
      ]
    },
    {
      "cell_type": "markdown",
      "source": [
        "#Programming with Python"
      ],
      "metadata": {
        "id": "aWsnwhJ6HeLE"
      }
    },
    {
      "cell_type": "markdown",
      "source": [
        "##**Functions**"
      ],
      "metadata": {
        "id": "qBterX8EIG_v"
      }
    },
    {
      "cell_type": "markdown",
      "source": [
        "###Defining a Function:\n",
        "\n",
        "A function in Python is like a mini-program inside your main program. It's a set of instructions that you can use over and over again. You define a function using the def keyword, and you give it a name."
      ],
      "metadata": {
        "id": "g91mgBhDJKfC"
      }
    },
    {
      "cell_type": "code",
      "execution_count": null,
      "metadata": {
        "id": "9l8AJj2eCw-f"
      },
      "outputs": [],
      "source": [
        "def greet(name):\n",
        "    print(\"Hello, \" + name)\n",
        "\n",
        "# In this code, we define a function called greet that takes one argument called name and prints a greeting."
      ]
    },
    {
      "cell_type": "markdown",
      "source": [
        "###Calling a Function:\n",
        "\n",
        "Calling a function means using it in your code. When you call a function, it executes the set of instructions inside it."
      ],
      "metadata": {
        "id": "HWll12JdJU5b"
      }
    },
    {
      "cell_type": "code",
      "source": [
        "def greet(name):\n",
        "    print(\"Hello, \" + name)\n",
        "\n",
        "greet(\"Alice\")\n",
        "\n",
        "# This line of code calls the greet function with the argument \"Alice\" and prints \"Hello, Alice.\""
      ],
      "metadata": {
        "id": "97n2m93rJdPR"
      },
      "execution_count": null,
      "outputs": []
    },
    {
      "cell_type": "markdown",
      "source": [
        "###Types of Functions:\n",
        "\n",
        "There are built-in functions like print() and len(), and you can also create your own custom functions. Functions can be used for various purposes, such as performing calculations, organizing code, or interacting with data."
      ],
      "metadata": {
        "id": "QkAerfSHLUjF"
      }
    },
    {
      "cell_type": "markdown",
      "source": [
        "####1. Built-in Functions:\n",
        "\n",
        "Python comes with many pre-defined functions that are available for you to use without having to define them. These functions serve various purposes, from performing mathematical operations to working with data and text."
      ],
      "metadata": {
        "id": "ktLtwfzGLZzy"
      }
    },
    {
      "cell_type": "code",
      "source": [
        "result = len(\"Hello, World!\")  # len() is a built-in function that calculates the length of a string.\n",
        "\n"
      ],
      "metadata": {
        "id": "RlcrQQDmLgjh"
      },
      "execution_count": null,
      "outputs": []
    },
    {
      "cell_type": "markdown",
      "source": [
        "####2. User-Defined Functions:\n",
        "\n",
        "You can create your own functions to perform specific tasks. These are known as user-defined functions."
      ],
      "metadata": {
        "id": "UhDlvnekLley"
      }
    },
    {
      "cell_type": "code",
      "source": [
        "def add(a, b):\n",
        "    return a + b\n",
        "\n",
        "result = add(3, 5)\n"
      ],
      "metadata": {
        "id": "PMn0XBNELpAq"
      },
      "execution_count": null,
      "outputs": []
    },
    {
      "cell_type": "markdown",
      "source": [
        "####3. Recursive Functions:\n",
        "\n",
        "A recursive function is a type of user-defined function that calls itself to solve a problem. Recursion is often used for tasks that can be broken down into smaller, similar subtasks."
      ],
      "metadata": {
        "id": "E9YyWwp_LtOS"
      }
    },
    {
      "cell_type": "code",
      "source": [
        "def factorial(n):\n",
        "    if n == 1:\n",
        "        return 1\n",
        "    else:\n",
        "        return n * factorial(n - 1)\n",
        "\n",
        "result = factorial(5)\n"
      ],
      "metadata": {
        "id": "mq4KY4SaLudc"
      },
      "execution_count": null,
      "outputs": []
    },
    {
      "cell_type": "markdown",
      "source": [
        "####4. Anonymous Functions (Lambda Functions):\n",
        "\n",
        "Lambda functions are small, unnamed functions that are often used for short, simple tasks. They are defined using the lambda keyword."
      ],
      "metadata": {
        "id": "EObRTGAULwqJ"
      }
    },
    {
      "cell_type": "code",
      "source": [
        "multiply = lambda x, y: x * y\n",
        "\n",
        "result = multiply(3, 5)\n"
      ],
      "metadata": {
        "id": "qGezlAxNL0NB"
      },
      "execution_count": null,
      "outputs": []
    },
    {
      "cell_type": "markdown",
      "source": [
        "####5. Higher-Order Functions:\n",
        "\n",
        "Higher-order functions are functions that take other functions as arguments or return functions as results. They are used in functional programming and allow you to work with functions as data."
      ],
      "metadata": {
        "id": "XI4Y-_8FL2mh"
      }
    },
    {
      "cell_type": "code",
      "source": [
        "def apply(func, value):\n",
        "    return func(value)\n",
        "\n",
        "def square(x):\n",
        "    return x * x\n",
        "\n",
        "result = apply(square, 3)\n"
      ],
      "metadata": {
        "id": "hzJvgLXeL7Xy"
      },
      "execution_count": null,
      "outputs": []
    },
    {
      "cell_type": "markdown",
      "source": [
        "####6. Library Functions:\n",
        "\n",
        "These functions are not built into Python but are available through external libraries or modules. Libraries expand Python's capabilities by providing additional functions for specific tasks."
      ],
      "metadata": {
        "id": "_F_BkY7vL9f8"
      }
    },
    {
      "cell_type": "code",
      "source": [
        "import math\n",
        "\n",
        "result = math.sqrt(25)  # The `sqrt` function from the `math` library calculates the square root of a number.\n"
      ],
      "metadata": {
        "id": "TOdjE1dEMNjb"
      },
      "execution_count": null,
      "outputs": []
    },
    {
      "cell_type": "markdown",
      "source": [
        "###Function Arguments:\n",
        "\n",
        "Function arguments are like inputs. When you call a function, you can pass information to it using arguments. These arguments can be used inside the function."
      ],
      "metadata": {
        "id": "-5tMEb_TMXAY"
      }
    },
    {
      "cell_type": "code",
      "source": [
        "def multiply(a, b):\n",
        "    result = a * b\n",
        "    return result\n"
      ],
      "metadata": {
        "id": "gJURbQbkMhNh"
      },
      "execution_count": null,
      "outputs": []
    },
    {
      "cell_type": "markdown",
      "source": [
        "###Anonymous Functions:\n",
        "\n",
        "Anonymous functions, also called lambda functions, are small, unnamed functions. They are often used for short tasks or as arguments to other functions."
      ],
      "metadata": {
        "id": "wLdr1iIFMpe_"
      }
    },
    {
      "cell_type": "code",
      "source": [
        "add = lambda x, y: x + y\n",
        "result = add(3, 5)\n"
      ],
      "metadata": {
        "id": "iL7_03GdMvSY"
      },
      "execution_count": null,
      "outputs": []
    },
    {
      "cell_type": "markdown",
      "source": [
        "###Global and Local Variables:\n",
        "\n",
        "Variables inside a function are typically \"local\" to that function, meaning they only exist and can be used inside the function. Variables outside of any function are \"global\" and can be accessed from anywhere in the code."
      ],
      "metadata": {
        "id": "o7vwk_DWMxlW"
      }
    },
    {
      "cell_type": "code",
      "source": [
        "x = 10  # This is a global variable\n",
        "\n",
        "def multiply_by_global(value):\n",
        "    result = x * value  # Accessing the global variable inside the function\n",
        "    return result\n",
        "\n",
        "y = multiply_by_global(5)\n"
      ],
      "metadata": {
        "id": "oeIJqxsPM3Cd"
      },
      "execution_count": null,
      "outputs": []
    }
  ]
}