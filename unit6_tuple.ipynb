{
  "nbformat": 4,
  "nbformat_minor": 0,
  "metadata": {
    "colab": {
      "provenance": [],
      "authorship_tag": "ABX9TyOoWC5hmfQKuRSTvK89RH6c",
      "include_colab_link": true
    },
    "kernelspec": {
      "name": "python3",
      "display_name": "Python 3"
    },
    "language_info": {
      "name": "python"
    }
  },
  "cells": [
    {
      "cell_type": "markdown",
      "metadata": {
        "id": "view-in-github",
        "colab_type": "text"
      },
      "source": [
        "<a href=\"https://colab.research.google.com/github/Soumyadityaa/python_notes/blob/main/unit6_tuple.ipynb\" target=\"_parent\"><img src=\"https://colab.research.google.com/assets/colab-badge.svg\" alt=\"Open In Colab\"/></a>"
      ]
    },
    {
      "cell_type": "markdown",
      "source": [
        "#Programming with Python"
      ],
      "metadata": {
        "id": "sq1iWfk_96X6"
      }
    },
    {
      "cell_type": "markdown",
      "source": [
        "##Tuple"
      ],
      "metadata": {
        "id": "BWt9syT5-WL4"
      }
    },
    {
      "cell_type": "markdown",
      "source": [
        "###Introduction to Tuples:\n",
        "\n",
        "A tuple in Python is like a list, but with a key difference: once you create a tuple, you can't change it. It's like a fixed list. Tuples are used to store a collection of items, just like lists."
      ],
      "metadata": {
        "id": "DyxDp8Hj-Z2u"
      }
    },
    {
      "cell_type": "code",
      "execution_count": null,
      "metadata": {
        "id": "lPOwoGhK9x2g"
      },
      "outputs": [],
      "source": [
        "coordinates = (3, 4)\n"
      ]
    },
    {
      "cell_type": "markdown",
      "source": [
        "#####Here, we have a tuple containing two numbers, which could represent coordinates in a 2D plane."
      ],
      "metadata": {
        "id": "FdS3SK50-fOW"
      }
    },
    {
      "cell_type": "markdown",
      "source": [
        "##Accessing Tuples:\n",
        "\n",
        "Accessing items in a tuple is similar to accessing items in a list. You use the item's position (index) to get its value."
      ],
      "metadata": {
        "id": "P3on5U-x-h8m"
      }
    },
    {
      "cell_type": "code",
      "source": [
        "coordinates = (3, 4)\n",
        "x = coordinates[0]  # This gets the first item, which is 3\n",
        "y = coordinates[1]  # This gets the second item, which is 4\n"
      ],
      "metadata": {
        "id": "n0-Z7Vz4-110"
      },
      "execution_count": null,
      "outputs": []
    },
    {
      "cell_type": "markdown",
      "source": [
        "###Operations on Tuples:\n",
        "\n",
        "Tuples, unlike lists, are immutable, which means you can't change their contents. Once you create a tuple, you can't add, remove, or change items in it."
      ],
      "metadata": {
        "id": "o_z4NF4y-37l"
      }
    },
    {
      "cell_type": "code",
      "source": [
        "coordinates = (3, 4)\n",
        "# The following would give an error:\n",
        "# coordinates[0] = 5  # You can't change the value in a tuple\n",
        "# coordinates.append(6)  # You can't add items to a tuple\n"
      ],
      "metadata": {
        "id": "8MAljlH2-8QU"
      },
      "execution_count": null,
      "outputs": []
    },
    {
      "cell_type": "markdown",
      "source": [
        "###Working with Tuples:\n",
        "\n",
        "You can use tuples to store related pieces of data. For example, you might use a tuple to represent a point's (x, y) coordinates."
      ],
      "metadata": {
        "id": "yHpoxGtk_OrV"
      }
    },
    {
      "cell_type": "code",
      "source": [
        "point1 = (3, 4)\n",
        "point2 = (1, 2)\n"
      ],
      "metadata": {
        "id": "ouoPXaZc_Qek"
      },
      "execution_count": null,
      "outputs": []
    },
    {
      "cell_type": "code",
      "source": [
        "point = (3, 4)\n",
        "x, y = point  # Unpacking the tuple into separate variables\n"
      ],
      "metadata": {
        "id": "yfplH1hN_8Ny"
      },
      "execution_count": null,
      "outputs": []
    },
    {
      "cell_type": "markdown",
      "source": [
        "###Functions and Methods:\n",
        "\n",
        "Tuples don't have as many methods as lists because they're meant to be unchangeable. You can use functions like len() to find the length of a tuple or count() to count the number of occurrences of a value in a tuple."
      ],
      "metadata": {
        "id": "XdFdZR0o_Uvl"
      }
    },
    {
      "cell_type": "code",
      "source": [
        "coordinates = (3, 4)\n",
        "tuple_length = len(coordinates)  # This returns 2, the number of items in the tuple\n"
      ],
      "metadata": {
        "id": "ey-WfLV4_Yv7"
      },
      "execution_count": null,
      "outputs": []
    },
    {
      "cell_type": "code",
      "source": [
        "grades = (90, 85, 92, 88, 90)\n",
        "number_of_grades = len(grades)  # Function: 5 (number of grades)\n",
        "count_of_90 = grades.count(90)  # Function: 2 (count of 90 in the tuple)\n"
      ],
      "metadata": {
        "id": "nol3WPWGAO7Z"
      },
      "execution_count": null,
      "outputs": []
    },
    {
      "cell_type": "markdown",
      "source": [
        "###:In simple terms, a tuple is like a fixed list. It's used when you want to store a collection of items that shouldn't change. You access items by their position, but you can't modify the tuple once it's created. Tuples are often used for data that should remain constant, like coordinates, names, or other unchanging sets of values."
      ],
      "metadata": {
        "id": "JDyAEDYP_eNE"
      }
    }
  ]
}